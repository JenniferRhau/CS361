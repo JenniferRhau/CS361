{
  "nbformat": 4,
  "nbformat_minor": 0,
  "metadata": {
    "colab": {
      "name": "Pythong CS 368 HW",
      "version": "0.3.2",
      "provenance": [],
      "include_colab_link": true
    },
    "kernelspec": {
      "name": "python3",
      "display_name": "Python 3"
    }
  },
  "cells": [
    {
      "cell_type": "markdown",
      "metadata": {
        "id": "view-in-github",
        "colab_type": "text"
      },
      "source": [
        "<a href=\"https://colab.research.google.com/github/JenniferRhau/CS361/blob/master/Pythong_CS_368_HW.ipynb\" target=\"_parent\"><img src=\"https://colab.research.google.com/assets/colab-badge.svg\" alt=\"Open In Colab\"/></a>"
      ]
    },
    {
      "metadata": {
        "id": "8E-CKDR4mvxK",
        "colab_type": "code",
        "outputId": "1de23eba-ccac-4537-eb13-a3d3ad1da196",
        "colab": {
          "base_uri": "https://localhost:8080/",
          "height": 35
        }
      },
      "cell_type": "code",
      "source": [
        "5/3"
      ],
      "execution_count": 0,
      "outputs": [
        {
          "output_type": "execute_result",
          "data": {
            "text/plain": [
              "1.6666666666666667"
            ]
          },
          "metadata": {
            "tags": []
          },
          "execution_count": 1
        }
      ]
    },
    {
      "metadata": {
        "id": "nwGmG1lenBoG",
        "colab_type": "text"
      },
      "cell_type": "markdown",
      "source": [
        "Dividing two integers can give a decimal answer. 5 divided by 3 is 1.6 repeated"
      ]
    },
    {
      "metadata": {
        "id": "yqUkrFnXnrsj",
        "colab_type": "code",
        "outputId": "20511e52-8b11-4131-ffd8-ece3dabf8efb",
        "colab": {
          "base_uri": "https://localhost:8080/",
          "height": 35
        }
      },
      "cell_type": "code",
      "source": [
        "5%3"
      ],
      "execution_count": 0,
      "outputs": [
        {
          "output_type": "execute_result",
          "data": {
            "text/plain": [
              "2"
            ]
          },
          "metadata": {
            "tags": []
          },
          "execution_count": 2
        }
      ]
    },
    {
      "metadata": {
        "id": "zETv16uPn2Zh",
        "colab_type": "text"
      },
      "cell_type": "markdown",
      "source": [
        "5 mod 3 gives the remainder 2"
      ]
    },
    {
      "metadata": {
        "id": "VWU9wdr0n5gA",
        "colab_type": "code",
        "outputId": "80e62dfb-b204-4d97-cefa-418c69bdfa40",
        "colab": {
          "base_uri": "https://localhost:8080/",
          "height": 35
        }
      },
      "cell_type": "code",
      "source": [
        "5.0/3"
      ],
      "execution_count": 0,
      "outputs": [
        {
          "output_type": "execute_result",
          "data": {
            "text/plain": [
              "1.6666666666666667"
            ]
          },
          "metadata": {
            "tags": []
          },
          "execution_count": 3
        }
      ]
    },
    {
      "metadata": {
        "id": "ncsZyEXboQa6",
        "colab_type": "text"
      },
      "cell_type": "markdown",
      "source": [
        "5.0 , a double, divided by 3 an int outputs a double. no type cast necessary"
      ]
    },
    {
      "metadata": {
        "id": "lKlpXtTroab5",
        "colab_type": "text"
      },
      "cell_type": "markdown",
      "source": [
        ""
      ]
    },
    {
      "metadata": {
        "id": "XFvIaarjn9EB",
        "colab_type": "code",
        "outputId": "edb2f013-0fc4-47f6-e094-5f3ff31a9821",
        "colab": {
          "base_uri": "https://localhost:8080/",
          "height": 35
        }
      },
      "cell_type": "code",
      "source": [
        "5/3.0"
      ],
      "execution_count": 0,
      "outputs": [
        {
          "output_type": "execute_result",
          "data": {
            "text/plain": [
              "2.2"
            ]
          },
          "metadata": {
            "tags": []
          },
          "execution_count": 4
        }
      ]
    },
    {
      "metadata": {
        "id": "zAEVNHyYob9o",
        "colab_type": "text"
      },
      "cell_type": "markdown",
      "source": [
        "5  divided by  3.0 outputs a double. no type cast necessary"
      ]
    },
    {
      "metadata": {
        "id": "ZMdZfoRyoZuB",
        "colab_type": "text"
      },
      "cell_type": "markdown",
      "source": [
        ""
      ]
    },
    {
      "metadata": {
        "id": "gb4JAuhEoKmK",
        "colab_type": "code",
        "outputId": "6ca852b5-27a7-412d-ae4b-a5366e5cca2c",
        "colab": {
          "base_uri": "https://localhost:8080/",
          "height": 35
        }
      },
      "cell_type": "code",
      "source": [
        "5.2%3"
      ],
      "execution_count": 0,
      "outputs": [
        {
          "output_type": "execute_result",
          "data": {
            "text/plain": [
              "2.2"
            ]
          },
          "metadata": {
            "tags": []
          },
          "execution_count": 5
        }
      ]
    },
    {
      "metadata": {
        "id": "yacL2fyKojuk",
        "colab_type": "code",
        "colab": {}
      },
      "cell_type": "code",
      "source": [
        "5.2 mod 3  gives the remainder as a double"
      ],
      "execution_count": 0,
      "outputs": []
    },
    {
      "metadata": {
        "id": "SwK1mnqForv7",
        "colab_type": "code",
        "outputId": "f4b712e8-504c-4a35-8dca-dff50ad17537",
        "colab": {
          "base_uri": "https://localhost:8080/",
          "height": 167
        }
      },
      "cell_type": "code",
      "source": [
        "2000.3 ** 200"
      ],
      "execution_count": 0,
      "outputs": [
        {
          "output_type": "error",
          "ename": "OverflowError",
          "evalue": "ignored",
          "traceback": [
            "\u001b[0;31m---------------------------------------------------------------------------\u001b[0m",
            "\u001b[0;31mOverflowError\u001b[0m                             Traceback (most recent call last)",
            "\u001b[0;32m<ipython-input-6-0e53818c35c3>\u001b[0m in \u001b[0;36m<module>\u001b[0;34m()\u001b[0m\n\u001b[0;32m----> 1\u001b[0;31m \u001b[0;36m2000.3\u001b[0m \u001b[0;34m**\u001b[0m \u001b[0;36m200\u001b[0m\u001b[0;34m\u001b[0m\u001b[0;34m\u001b[0m\u001b[0m\n\u001b[0m",
            "\u001b[0;31mOverflowError\u001b[0m: (34, 'Numerical result out of range')"
          ]
        }
      ]
    },
    {
      "metadata": {
        "id": "xs1ynV7coy2h",
        "colab_type": "text"
      },
      "cell_type": "markdown",
      "source": [
        "The product is too big"
      ]
    },
    {
      "metadata": {
        "id": "N0WzVc-wo41S",
        "colab_type": "code",
        "outputId": "d8b6276f-390b-480b-887e-f4e625af9543",
        "colab": {
          "base_uri": "https://localhost:8080/",
          "height": 35
        }
      },
      "cell_type": "code",
      "source": [
        "1.0 + 1.0 - 1.0"
      ],
      "execution_count": 0,
      "outputs": [
        {
          "output_type": "execute_result",
          "data": {
            "text/plain": [
              "1.0"
            ]
          },
          "metadata": {
            "tags": []
          },
          "execution_count": 7
        }
      ]
    },
    {
      "metadata": {
        "id": "WGimxUl8o7yt",
        "colab_type": "text"
      },
      "cell_type": "markdown",
      "source": [
        ""
      ]
    },
    {
      "metadata": {
        "id": "Ri9YaT_epBFb",
        "colab_type": "code",
        "outputId": "3a5250c8-e345-486b-d34b-0429a6c32cba",
        "colab": {
          "base_uri": "https://localhost:8080/",
          "height": 35
        }
      },
      "cell_type": "code",
      "source": [
        "1.0 + 1.0e20 - 1.0e20"
      ],
      "execution_count": 0,
      "outputs": [
        {
          "output_type": "execute_result",
          "data": {
            "text/plain": [
              "0.0"
            ]
          },
          "metadata": {
            "tags": []
          },
          "execution_count": 8
        }
      ]
    },
    {
      "metadata": {
        "id": "tbEUnISWpGgk",
        "colab_type": "text"
      },
      "cell_type": "markdown",
      "source": [
        "the number is out of range of what can be stored. so it is ignored"
      ]
    },
    {
      "metadata": {
        "id": "-jSz4denp1_p",
        "colab_type": "code",
        "outputId": "390987c9-7165-49a3-faa5-d9c18477c2ab",
        "colab": {
          "base_uri": "https://localhost:8080/",
          "height": 35
        }
      },
      "cell_type": "code",
      "source": [
        "float(123)"
      ],
      "execution_count": 0,
      "outputs": [
        {
          "output_type": "execute_result",
          "data": {
            "text/plain": [
              "123.0"
            ]
          },
          "metadata": {
            "tags": []
          },
          "execution_count": 9
        }
      ]
    },
    {
      "metadata": {
        "id": "78Sqi7XCqmM9",
        "colab_type": "text"
      },
      "cell_type": "markdown",
      "source": [
        "Very easy to type cast numbers"
      ]
    },
    {
      "metadata": {
        "id": "jLUWtWZSqCz_",
        "colab_type": "code",
        "outputId": "a1c2e617-5def-46d3-d190-123fa7c12c23",
        "colab": {
          "base_uri": "https://localhost:8080/",
          "height": 35
        }
      },
      "cell_type": "code",
      "source": [
        "float('123')"
      ],
      "execution_count": 0,
      "outputs": [
        {
          "output_type": "execute_result",
          "data": {
            "text/plain": [
              "123.0"
            ]
          },
          "metadata": {
            "tags": []
          },
          "execution_count": 10
        }
      ]
    },
    {
      "metadata": {
        "id": "PwemamwXqq9W",
        "colab_type": "text"
      },
      "cell_type": "markdown",
      "source": [
        "you can type case even with a string of numbers/ numbers in quotes\n"
      ]
    },
    {
      "metadata": {
        "id": "oVu-MEjsqFY-",
        "colab_type": "code",
        "outputId": "e2bdd4de-ec57-4e5d-d4c5-a86f56bec02f",
        "colab": {
          "base_uri": "https://localhost:8080/",
          "height": 35
        }
      },
      "cell_type": "code",
      "source": [
        "float('123.23')"
      ],
      "execution_count": 0,
      "outputs": [
        {
          "output_type": "execute_result",
          "data": {
            "text/plain": [
              "123.23"
            ]
          },
          "metadata": {
            "tags": []
          },
          "execution_count": 11
        }
      ]
    },
    {
      "metadata": {
        "id": "etp-MvGJqw3M",
        "colab_type": "text"
      },
      "cell_type": "markdown",
      "source": [
        "you can type cast with numbers in quotes"
      ]
    },
    {
      "metadata": {
        "id": "xFybS-YlqHnz",
        "colab_type": "code",
        "outputId": "1f9f314e-4fff-4b23-c716-ac0dd1e3277b",
        "colab": {
          "base_uri": "https://localhost:8080/",
          "height": 35
        }
      },
      "cell_type": "code",
      "source": [
        "int(123.23)"
      ],
      "execution_count": 0,
      "outputs": [
        {
          "output_type": "execute_result",
          "data": {
            "text/plain": [
              "123"
            ]
          },
          "metadata": {
            "tags": []
          },
          "execution_count": 12
        }
      ]
    },
    {
      "metadata": {
        "id": "hlkw5yT9q0Sk",
        "colab_type": "text"
      },
      "cell_type": "markdown",
      "source": [
        "When you cast with an int it takes away the decimal "
      ]
    },
    {
      "metadata": {
        "id": "4VJVbrm-qLBg",
        "colab_type": "code",
        "outputId": "e516ec0a-a648-4cdb-d011-b5b1e28783bb",
        "colab": {
          "base_uri": "https://localhost:8080/",
          "height": 167
        }
      },
      "cell_type": "code",
      "source": [
        "int('123.23')"
      ],
      "execution_count": 0,
      "outputs": [
        {
          "output_type": "error",
          "ename": "ValueError",
          "evalue": "ignored",
          "traceback": [
            "\u001b[0;31m---------------------------------------------------------------------------\u001b[0m",
            "\u001b[0;31mValueError\u001b[0m                                Traceback (most recent call last)",
            "\u001b[0;32m<ipython-input-13-a052266f23da>\u001b[0m in \u001b[0;36m<module>\u001b[0;34m()\u001b[0m\n\u001b[0;32m----> 1\u001b[0;31m \u001b[0mint\u001b[0m\u001b[0;34m(\u001b[0m\u001b[0;34m'123.23'\u001b[0m\u001b[0;34m)\u001b[0m\u001b[0;34m\u001b[0m\u001b[0;34m\u001b[0m\u001b[0m\n\u001b[0m",
            "\u001b[0;31mValueError\u001b[0m: invalid literal for int() with base 10: '123.23'"
          ]
        }
      ]
    },
    {
      "metadata": {
        "id": "jo5UT3B4rSkY",
        "colab_type": "text"
      },
      "cell_type": "markdown",
      "source": [
        "python can't typecast a string"
      ]
    },
    {
      "metadata": {
        "id": "0x5GkIVHqPCT",
        "colab_type": "code",
        "outputId": "46944620-5e0f-44a4-95b7-39018456a7da",
        "colab": {
          "base_uri": "https://localhost:8080/",
          "height": 35
        }
      },
      "cell_type": "code",
      "source": [
        "int(float('123.23'))"
      ],
      "execution_count": 0,
      "outputs": [
        {
          "output_type": "execute_result",
          "data": {
            "text/plain": [
              "123"
            ]
          },
          "metadata": {
            "tags": []
          },
          "execution_count": 14
        }
      ]
    },
    {
      "metadata": {
        "id": "g-Be6mm3rc01",
        "colab_type": "text"
      },
      "cell_type": "markdown",
      "source": [
        "if you can double type cast and that will work for a multiple step cast"
      ]
    },
    {
      "metadata": {
        "id": "E-CpIaugqUPX",
        "colab_type": "code",
        "outputId": "a3fbd7a3-11fb-4035-def1-21d0a60d0558",
        "colab": {
          "base_uri": "https://localhost:8080/",
          "height": 35
        }
      },
      "cell_type": "code",
      "source": [
        "str(12)"
      ],
      "execution_count": 0,
      "outputs": [
        {
          "output_type": "execute_result",
          "data": {
            "text/plain": [
              "'12'"
            ]
          },
          "metadata": {
            "tags": []
          },
          "execution_count": 15
        }
      ]
    },
    {
      "metadata": {
        "id": "t1wzcb9qsQ3E",
        "colab_type": "text"
      },
      "cell_type": "markdown",
      "source": [
        "string will just output the sting"
      ]
    },
    {
      "metadata": {
        "id": "-Z9UK-0SqV4B",
        "colab_type": "code",
        "outputId": "63aa9e06-6285-4699-949e-fba11f908c52",
        "colab": {
          "base_uri": "https://localhost:8080/",
          "height": 35
        }
      },
      "cell_type": "code",
      "source": [
        "str(12.2)"
      ],
      "execution_count": 0,
      "outputs": [
        {
          "output_type": "execute_result",
          "data": {
            "text/plain": [
              "'12.2'"
            ]
          },
          "metadata": {
            "tags": []
          },
          "execution_count": 16
        }
      ]
    },
    {
      "metadata": {
        "id": "Aex-UCVosUlo",
        "colab_type": "text"
      },
      "cell_type": "markdown",
      "source": [
        "out put the string with quotes"
      ]
    },
    {
      "metadata": {
        "id": "gpmmOLjcqXQQ",
        "colab_type": "code",
        "outputId": "1dcacd22-cdb9-4e7a-adb3-29a65c78846f",
        "colab": {
          "base_uri": "https://localhost:8080/",
          "height": 35
        }
      },
      "cell_type": "code",
      "source": [
        "bool('a')"
      ],
      "execution_count": 0,
      "outputs": [
        {
          "output_type": "execute_result",
          "data": {
            "text/plain": [
              "True"
            ]
          },
          "metadata": {
            "tags": []
          },
          "execution_count": 17
        }
      ]
    },
    {
      "metadata": {
        "id": "ZW5QIAQWsdgL",
        "colab_type": "text"
      },
      "cell_type": "markdown",
      "source": [
        "anything that is not empty is true in python"
      ]
    },
    {
      "metadata": {
        "id": "4zh-SppUqaTs",
        "colab_type": "code",
        "outputId": "14c4fe88-7d9d-459b-e381-478a3a59e68e",
        "colab": {
          "base_uri": "https://localhost:8080/",
          "height": 35
        }
      },
      "cell_type": "code",
      "source": [
        "bool(0)"
      ],
      "execution_count": 0,
      "outputs": [
        {
          "output_type": "execute_result",
          "data": {
            "text/plain": [
              "False"
            ]
          },
          "metadata": {
            "tags": []
          },
          "execution_count": 18
        }
      ]
    },
    {
      "metadata": {
        "id": "OXGucKLLsgbg",
        "colab_type": "text"
      },
      "cell_type": "markdown",
      "source": [
        "the boolean of anything that is \"empty\" is false"
      ]
    },
    {
      "metadata": {
        "id": "dpl5SgG8qbZi",
        "colab_type": "code",
        "outputId": "aebe29bb-d5de-4386-839b-9b9db2abe2da",
        "colab": {
          "base_uri": "https://localhost:8080/",
          "height": 35
        }
      },
      "cell_type": "code",
      "source": [
        "bool (0.1)"
      ],
      "execution_count": 0,
      "outputs": [
        {
          "output_type": "execute_result",
          "data": {
            "text/plain": [
              "True"
            ]
          },
          "metadata": {
            "tags": []
          },
          "execution_count": 20
        }
      ]
    },
    {
      "metadata": {
        "id": "F-ZfnSt0soNB",
        "colab_type": "code",
        "colab": {}
      },
      "cell_type": "code",
      "source": [
        "the boolean of anyhthing tht is not an empty/null/zero will be true"
      ],
      "execution_count": 0,
      "outputs": []
    },
    {
      "metadata": {
        "id": "3eA-sAv1tGAN",
        "colab_type": "code",
        "outputId": "b2cb8f29-fbd9-45b5-aeaf-1fc4a643ee1f",
        "colab": {
          "base_uri": "https://localhost:8080/",
          "height": 35
        }
      },
      "cell_type": "code",
      "source": [
        "range(5)"
      ],
      "execution_count": 0,
      "outputs": [
        {
          "output_type": "execute_result",
          "data": {
            "text/plain": [
              "range(0, 5)"
            ]
          },
          "metadata": {
            "tags": []
          },
          "execution_count": 23
        }
      ]
    },
    {
      "metadata": {
        "id": "G-UtYw0vtb7H",
        "colab_type": "code",
        "colab": {}
      },
      "cell_type": "code",
      "source": [
        ""
      ],
      "execution_count": 0,
      "outputs": []
    },
    {
      "metadata": {
        "id": "hTyVcv_qtpWv",
        "colab_type": "text"
      },
      "cell_type": "markdown",
      "source": [
        "range(5) just tells the range so 0,1,2,3,4\n",
        "\n",
        "\n",
        "i in range(5)\n",
        "will output whatever is in the loop 5 times\n",
        "\n"
      ]
    },
    {
      "metadata": {
        "id": "TyytHc6EuUE_",
        "colab_type": "code",
        "outputId": "48672aa5-5f64-4c6f-eac3-1512415d571d",
        "colab": {
          "base_uri": "https://localhost:8080/",
          "height": 35
        }
      },
      "cell_type": "code",
      "source": [
        "type(range(5))"
      ],
      "execution_count": 0,
      "outputs": [
        {
          "output_type": "execute_result",
          "data": {
            "text/plain": [
              "range"
            ]
          },
          "metadata": {
            "tags": []
          },
          "execution_count": 27
        }
      ]
    },
    {
      "metadata": {
        "id": "Q_wD5ZDIuYn3",
        "colab_type": "code",
        "colab": {}
      },
      "cell_type": "code",
      "source": [
        "because range is the type "
      ],
      "execution_count": 0,
      "outputs": []
    },
    {
      "metadata": {
        "id": "5HhFYOz2uq7c",
        "colab_type": "code",
        "outputId": "cbed0fd9-5949-472f-913c-efda3a5809ed",
        "colab": {
          "base_uri": "https://localhost:8080/",
          "height": 359
        }
      },
      "cell_type": "code",
      "source": [
        "\n",
        "num = 0\n",
        "x = 11\n",
        "while num < 20:\n",
        "    if x%5 == 0 and x%7==0 and x%11==0:\n",
        "      print(x)\n",
        "      num += 1\n",
        "    x += 1\n"
      ],
      "execution_count": 0,
      "outputs": [
        {
          "output_type": "stream",
          "text": [
            "385\n",
            "770\n",
            "1155\n",
            "1540\n",
            "1925\n",
            "2310\n",
            "2695\n",
            "3080\n",
            "3465\n",
            "3850\n",
            "4235\n",
            "4620\n",
            "5005\n",
            "5390\n",
            "5775\n",
            "6160\n",
            "6545\n",
            "6930\n",
            "7315\n",
            "7700\n"
          ],
          "name": "stdout"
        }
      ]
    },
    {
      "metadata": {
        "id": "Rsmunh5G9ST4",
        "colab_type": "text"
      },
      "cell_type": "markdown",
      "source": [
        "Program that outputs the first 20 numbers divisible by 5 7 or 11"
      ]
    },
    {
      "metadata": {
        "id": "LMqtIwkFEQl_",
        "colab_type": "code",
        "outputId": "03e090b9-4f55-4899-a98c-25906350c5e1",
        "colab": {
          "base_uri": "https://localhost:8080/",
          "height": 805
        }
      },
      "cell_type": "code",
      "source": [
        "def is_prime(n):\n",
        " print(\"2\")\n",
        " print(\"3\")\n",
        " k=1 \n",
        "  \n",
        " while k < n:\n",
        "  num = (6*k)+ 1 \n",
        "  num2 = (6*k)- 1\n",
        "  print(num)\n",
        "  print(num2)\n",
        "  k +=1\n",
        "  \n",
        "is_prime(23)"
      ],
      "execution_count": 0,
      "outputs": [
        {
          "output_type": "stream",
          "text": [
            "2\n",
            "3\n",
            "7\n",
            "5\n",
            "13\n",
            "11\n",
            "19\n",
            "17\n",
            "25\n",
            "23\n",
            "31\n",
            "29\n",
            "37\n",
            "35\n",
            "43\n",
            "41\n",
            "49\n",
            "47\n",
            "55\n",
            "53\n",
            "61\n",
            "59\n",
            "67\n",
            "65\n",
            "73\n",
            "71\n",
            "79\n",
            "77\n",
            "85\n",
            "83\n",
            "91\n",
            "89\n",
            "97\n",
            "95\n",
            "103\n",
            "101\n",
            "109\n",
            "107\n",
            "115\n",
            "113\n",
            "121\n",
            "119\n",
            "127\n",
            "125\n",
            "133\n",
            "131\n"
          ],
          "name": "stdout"
        }
      ]
    },
    {
      "metadata": {
        "id": "XAO8-JA3T8sU",
        "colab_type": "text"
      },
      "cell_type": "markdown",
      "source": [
        "FINDS ALL PRIME NUMBERS YOU PUT INTO n"
      ]
    },
    {
      "metadata": {
        "id": "UgaCfPCDUpzl",
        "colab_type": "code",
        "outputId": "1495de7b-1d39-4220-c755-700f09cddff4",
        "colab": {
          "base_uri": "https://localhost:8080/",
          "height": 154
        }
      },
      "cell_type": "code",
      "source": [
        "letters = ['J','E','N','N','I','F','E','R']\n",
        "\n",
        "def element(x):\n",
        "  for aletter in letters:\n",
        "    print(aletter)\n",
        "\n",
        "element(letters)"
      ],
      "execution_count": 0,
      "outputs": [
        {
          "output_type": "stream",
          "text": [
            "J\n",
            "E\n",
            "N\n",
            "N\n",
            "I\n",
            "F\n",
            "E\n",
            "R\n"
          ],
          "name": "stdout"
        }
      ]
    },
    {
      "metadata": {
        "id": "FRN1TbKnYZSm",
        "colab_type": "text"
      },
      "cell_type": "markdown",
      "source": [
        "This function prints out the list"
      ]
    },
    {
      "metadata": {
        "id": "Cc4l4XHPYqbI",
        "colab_type": "code",
        "outputId": "206b0596-acc8-4ee8-b28c-f03943d5e921",
        "colab": {
          "base_uri": "https://localhost:8080/",
          "height": 154
        }
      },
      "cell_type": "code",
      "source": [
        "letters = ['R','E','F','I','N','N','E','J']\n",
        "\n",
        "def elementsflip(x):\n",
        "  for letter in letters[::-1]:\n",
        "    print(letter)\n",
        "\n",
        "element(letters)"
      ],
      "execution_count": 0,
      "outputs": [
        {
          "output_type": "stream",
          "text": [
            "J\n",
            "E\n",
            "N\n",
            "N\n",
            "I\n",
            "F\n",
            "E\n",
            "R\n"
          ],
          "name": "stdout"
        }
      ]
    },
    {
      "metadata": {
        "id": "snNXWGuqZ_3V",
        "colab_type": "text"
      },
      "cell_type": "markdown",
      "source": [
        "Prints out list backwards"
      ]
    },
    {
      "metadata": {
        "id": "E0ZSJ7dIaN1S",
        "colab_type": "code",
        "outputId": "6884b0bc-4cd5-4ca1-96ab-a7d687ef37b9",
        "colab": {
          "base_uri": "https://localhost:8080/",
          "height": 34
        }
      },
      "cell_type": "code",
      "source": [
        "letters = ['R','E','F','I','N','N','E','J']\n",
        "\n",
        "def len(x):\n",
        "  count = 0\n",
        "  for letter in letters:\n",
        "    count = count + 1\n",
        "  print(count)\n",
        "\n",
        "len(letters)"
      ],
      "execution_count": 0,
      "outputs": [
        {
          "output_type": "stream",
          "text": [
            "8\n"
          ],
          "name": "stdout"
        }
      ]
    },
    {
      "metadata": {
        "id": "nmA4FKiPbDl8",
        "colab_type": "text"
      },
      "cell_type": "markdown",
      "source": [
        "prints length of a list"
      ]
    },
    {
      "metadata": {
        "id": "dkZklp1Vbpp-",
        "colab_type": "code",
        "outputId": "d6c2cc36-760d-4f71-b270-8d212db5a8be",
        "colab": {
          "base_uri": "https://localhost:8080/",
          "height": 68
        }
      },
      "cell_type": "code",
      "source": [
        "a = ['C','H','R','I','S','T','M','A','S']\n",
        "\n",
        "b=a\n",
        "b[1] = \"x\"\n",
        "print(a)\n",
        "\n",
        "c = a[:]\n",
        "c[2] = 'J'\n",
        "print(a)\n",
        "\n"
      ],
      "execution_count": 0,
      "outputs": [
        {
          "output_type": "stream",
          "text": [
            "['C', 'x', 'R', 'I', 'S', 'T', 'M', 'A', 'S']\n",
            "['C', 'x', 'R', 'I', 'S', 'T', 'M', 'A', 'S']\n"
          ],
          "name": "stdout"
        },
        {
          "output_type": "execute_result",
          "data": {
            "text/plain": [
              "['0', 'x', 'R', 'I', 'S', 'T', 'M', 'A', 'S']"
            ]
          },
          "metadata": {
            "tags": []
          },
          "execution_count": 63
        }
      ]
    },
    {
      "metadata": {
        "id": "izYzJbtjfSBa",
        "colab_type": "code",
        "outputId": "ee9af690-5e28-4686-9dd6-b310874b014e",
        "colab": {
          "base_uri": "https://localhost:8080/",
          "height": 34
        }
      },
      "cell_type": "code",
      "source": [
        "def set_first_elem_to_zero(l):\n",
        " l[0] = '0'\n",
        " return l\n",
        " print(l)\n",
        "  \n",
        "l = ['R', 'H','A','U']\n",
        "\n",
        "set_first_elem_to_zero(l)\n",
        "print(l)\n",
        "\n"
      ],
      "execution_count": 0,
      "outputs": [
        {
          "output_type": "stream",
          "text": [
            "['0', 'H', 'A', 'U']\n"
          ],
          "name": "stdout"
        }
      ]
    },
    {
      "metadata": {
        "id": "SuAuRvY34iQ_",
        "colab_type": "text"
      },
      "cell_type": "markdown",
      "source": [
        ""
      ]
    },
    {
      "metadata": {
        "id": "pM_BsyNjccJP",
        "colab_type": "text"
      },
      "cell_type": "markdown",
      "source": [
        "You change b but since b was pointing to a you changed a\n",
        "also, a[:] didn't change anything because there was nothing next to the colon\n",
        "\n",
        "the original list is forever changed.\n"
      ]
    },
    {
      "metadata": {
        "id": "fdho5Pzkwpxn",
        "colab_type": "code",
        "outputId": "50b6064a-2642-4c2e-c9e1-1d8f795ac990",
        "colab": {
          "base_uri": "https://localhost:8080/",
          "height": 34
        }
      },
      "cell_type": "code",
      "source": [
        "list =[]\n",
        "lists = [ [1,3],[6,7],[2,8] ]\n",
        "def print_list(l):\n",
        "    for i in l:\n",
        "      for x in i:\n",
        "        list.append(x)\n",
        "      \n",
        "print_list(lists)\n",
        "print(list)"
      ],
      "execution_count": 0,
      "outputs": [
        {
          "output_type": "stream",
          "text": [
            "[]\n"
          ],
          "name": "stdout"
        }
      ]
    },
    {
      "metadata": {
        "id": "Kuf3uIYT55Xz",
        "colab_type": "text"
      },
      "cell_type": "markdown",
      "source": [
        "Append does the same as pop in a stack.\n",
        "This code goes through a list then again throught he smaller lists to sppend"
      ]
    },
    {
      "metadata": {
        "id": "lw5_KUqz6kaD",
        "colab_type": "code",
        "outputId": "cc194c96-f95b-4de5-fc20-959dd1329eef",
        "colab": {
          "base_uri": "https://localhost:8080/",
          "height": 362
        }
      },
      "cell_type": "code",
      "source": [
        "import matplotlib.pyplot as plt\n",
        "import numpy as np #Makes trig functions available\n",
        "#import random\n",
        "#import math\n",
        "\n",
        "def f(x):\n",
        "  return(np.sin(x-2)**2)*(np.e**(-x**2))\n",
        "\n",
        "x = np.arange(0.0,2.0,0.01)\n",
        "y = f(x)\n",
        "  \n",
        "plt.plot(x,y)\n",
        "plt.title(\"f(x) = sin^2(x-2)*e^-x^-2\")\n",
        "plt.grid(True)\n",
        "plt.show()"
      ],
      "execution_count": 6,
      "outputs": [
        {
          "output_type": "display_data",
          "data": {
            "image/png": "[encoded data removed]",
            "text/plain": [
              "<matplotlib.figure.Figure at 0x7fddf92e6ef0>"
            ]
          },
          "metadata": {
            "tags": []
          }
        }
      ]
    },
    {
      "metadata": {
        "id": "trCU4t-7Fcii",
        "colab_type": "text"
      },
      "cell_type": "markdown",
      "source": [
        "Why is the graph not appearing"
      ]
    },
    {
      "metadata": {
        "id": "xr6kC1OjvOHu",
        "colab_type": "code",
        "outputId": "f962aaf6-125e-4128-f424-62714f59deac",
        "colab": {
          "base_uri": "https://localhost:8080/",
          "height": 34
        }
      },
      "cell_type": "code",
      "source": [
        "def iter(l):\n",
        "  n=1\n",
        "  for each in (l):\n",
        "    n*=each\n",
        "  return n\n",
        "\n",
        "print(iter([3,5,2,6,7,9]))\n",
        "\n",
        "def recur(l):\n",
        "  if(len(l)==1):\n",
        "    returnl[0];\n",
        "  else:\n",
        "    return [0]*recur(l[1:])\n",
        "  \n",
        "  print(recur([3,5,2,6,7,9]))\n",
        "  "
      ],
      "execution_count": 0,
      "outputs": [
        {
          "output_type": "stream",
          "text": [
            "11340\n"
          ],
          "name": "stdout"
        }
      ]
    },
    {
      "metadata": {
        "id": "TR-FRRdRx2Hh",
        "colab_type": "text"
      },
      "cell_type": "markdown",
      "source": [
        "both output the same number 11340"
      ]
    },
    {
      "metadata": {
        "id": "tl8W97aJx-ca",
        "colab_type": "code",
        "outputId": "7d7eec48-0ba0-4ecc-c74a-3cf4eb12b903",
        "colab": {
          "base_uri": "https://localhost:8080/",
          "height": 34
        }
      },
      "cell_type": "code",
      "source": [
        "def fib(n):\n",
        " \n",
        "  if(n==0):\n",
        "    return 0\n",
        "  elif(n==1):\n",
        "    return 1\n",
        "  else:\n",
        "    return fib(n-1)+fib(n-2)\n",
        "  \n",
        "print(fib(36))"
      ],
      "execution_count": 0,
      "outputs": [
        {
          "output_type": "stream",
          "text": [
            "14930352\n"
          ],
          "name": "stdout"
        }
      ]
    },
    {
      "metadata": {
        "id": "FWpKDrqey3nM",
        "colab_type": "code",
        "outputId": "8b2aeb51-ec60-4b89-ef2e-f835f6bbfb5e",
        "colab": {
          "base_uri": "https://localhost:8080/",
          "height": 237
        }
      },
      "cell_type": "code",
      "source": [
        "\n",
        "import re\n",
        "\n",
        "file = open('emails.txt', 'r')\n",
        "file = file.read()\n",
        "\n",
        "email = re.findall(r'([^ ]+[@][^ ]+[.][a-z]+)', file)\n",
        "print(emails)"
      ],
      "execution_count": 7,
      "outputs": [
        {
          "output_type": "error",
          "ename": "FileNotFoundError",
          "evalue": "ignored",
          "traceback": [
            "\u001b[0;31m---------------------------------------------------------------------------\u001b[0m",
            "\u001b[0;31mFileNotFoundError\u001b[0m                         Traceback (most recent call last)",
            "\u001b[0;32m<ipython-input-7-fc5ea0af2f33>\u001b[0m in \u001b[0;36m<module>\u001b[0;34m()\u001b[0m\n\u001b[1;32m      2\u001b[0m \u001b[0;32mimport\u001b[0m \u001b[0mre\u001b[0m\u001b[0;34m\u001b[0m\u001b[0;34m\u001b[0m\u001b[0m\n\u001b[1;32m      3\u001b[0m \u001b[0;34m\u001b[0m\u001b[0m\n\u001b[0;32m----> 4\u001b[0;31m \u001b[0mfile\u001b[0m \u001b[0;34m=\u001b[0m \u001b[0mopen\u001b[0m\u001b[0;34m(\u001b[0m\u001b[0;34m'emails.txt'\u001b[0m\u001b[0;34m,\u001b[0m \u001b[0;34m'r'\u001b[0m\u001b[0;34m)\u001b[0m\u001b[0;34m\u001b[0m\u001b[0;34m\u001b[0m\u001b[0m\n\u001b[0m\u001b[1;32m      5\u001b[0m \u001b[0mfile\u001b[0m \u001b[0;34m=\u001b[0m \u001b[0mfile\u001b[0m\u001b[0;34m.\u001b[0m\u001b[0mread\u001b[0m\u001b[0;34m(\u001b[0m\u001b[0;34m)\u001b[0m\u001b[0;34m\u001b[0m\u001b[0;34m\u001b[0m\u001b[0m\n\u001b[1;32m      6\u001b[0m \u001b[0;34m\u001b[0m\u001b[0m\n",
            "\u001b[0;31mFileNotFoundError\u001b[0m: [Errno 2] No such file or directory: 'emails.txt'"
          ]
        }
      ]
    },
    {
      "metadata": {
        "id": "qt6Vt9yvNejB",
        "colab_type": "code",
        "colab": {}
      },
      "cell_type": "code",
      "source": [
        ""
      ],
      "execution_count": 0,
      "outputs": []
    }
  ]
}